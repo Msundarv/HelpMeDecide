{
 "cells": [
  {
   "cell_type": "code",
   "execution_count": 1,
   "metadata": {},
   "outputs": [],
   "source": [
    "import json\n",
    "import numpy as np\n",
    "from pyahp import parse"
   ]
  },
  {
   "cell_type": "markdown",
   "metadata": {},
   "source": [
    "## Load AHP Model"
   ]
  },
  {
   "cell_type": "code",
   "execution_count": 4,
   "metadata": {},
   "outputs": [
    {
     "data": {
      "text/plain": [
       "{'name': 'Sample Model',\n",
       " 'method': 'approximate',\n",
       " 'criteria': ['critA', 'critB', 'critC'],\n",
       " 'subCriteria': {},\n",
       " 'alternatives': ['altA', 'altB', 'altC'],\n",
       " 'preferenceMatrices': {'criteria': [[1, 0.3333, 0.5], [3, 1, 1], [2, 1, 1]],\n",
       "  'alternatives:critA': [[1, 1, 1], [1, 1, 1], [1, 1, 1]],\n",
       "  'alternatives:critB': [[1, 1, 1], [1, 1, 1], [1, 1, 1]],\n",
       "  'alternatives:critC': [[1, 1, 1], [1, 1, 1], [1, 1, 1]]}}"
      ]
     },
     "execution_count": 4,
     "metadata": {},
     "output_type": "execute_result"
    }
   ],
   "source": [
    "with open('./json_models/AHP_model(1).json') as json_model:\n",
    "    dict_model = json.load(json_model)\n",
    "\n",
    "dict_model"
   ]
  },
  {
   "cell_type": "markdown",
   "metadata": {},
   "source": [
    "## AHP Solver"
   ]
  },
  {
   "cell_type": "code",
   "execution_count": 5,
   "metadata": {},
   "outputs": [
    {
     "name": "stdout",
     "output_type": "stream",
     "text": [
      "{'critA': 0.1692282130098862, 'critB': 0.4615398816611744, 'critC': 0.3692319053289395}\n",
      "{'altA': 0.333, 'altB': 0.333, 'altC': 0.333}\n"
     ]
    }
   ],
   "source": [
    "# Initialize AHP object\n",
    "ahp_model = parse(dict_model)\n",
    "\n",
    "# Calc. criteria level priorities \n",
    "criteria_pm = np.array(ahp_model.preference_matrices['criteria'])\n",
    "crit_priorities = ahp_model.solver.estimate(criteria_pm)\n",
    "crit_priorities = dict(zip(dict_model['criteria'], crit_priorities))\n",
    "print(crit_priorities)\n",
    "\n",
    "# Calc. alternative level priorities \n",
    "alt_priorities = ahp_model.get_priorities()\n",
    "alt_priorities = dict(zip(dict_model['alternatives'], alt_priorities))\n",
    "print(alt_priorities)"
   ]
  },
  {
   "cell_type": "code",
   "execution_count": null,
   "metadata": {},
   "outputs": [],
   "source": []
  }
 ],
 "metadata": {
  "kernelspec": {
   "display_name": "Python 3.9.15 ('helpmedecide')",
   "language": "python",
   "name": "python3"
  },
  "language_info": {
   "codemirror_mode": {
    "name": "ipython",
    "version": 3
   },
   "file_extension": ".py",
   "mimetype": "text/x-python",
   "name": "python",
   "nbconvert_exporter": "python",
   "pygments_lexer": "ipython3",
   "version": "3.9.15"
  },
  "orig_nbformat": 4,
  "vscode": {
   "interpreter": {
    "hash": "fda2fe25e38af8d8b380615305d7061ce60656fcf02daa3d9c5a16cd40b0a336"
   }
  }
 },
 "nbformat": 4,
 "nbformat_minor": 2
}
